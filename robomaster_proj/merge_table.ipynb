{
 "cells": [
  {
   "cell_type": "code",
   "execution_count": 1,
   "metadata": {},
   "outputs": [],
   "source": [
    "import numpy as np"
   ]
  },
  {
   "cell_type": "code",
   "execution_count": 2,
   "metadata": {},
   "outputs": [
    {
     "data": {
      "text/plain": [
       "array([['0', '0', '0', '0', 'x', 'x', 'x', 'x', 'x', 'x'],\n",
       "       ['x', '0', '0', '0', 'x', '.', '.', '.', '.', 'x'],\n",
       "       ['x', '.', '0', '0', 'x', '.', '.', '.', '.', 'x'],\n",
       "       ['x', '.', '.', 'x', 'x', '.', '.', '.', '.', 'x'],\n",
       "       ['x', 'x', '.', '.', '.', '.', '.', '.', '.', 'x'],\n",
       "       ['x', 'x', '.', '.', '.', '.', '.', '.', '.', 'x'],\n",
       "       ['x', '.', '.', '.', '.', '.', 'ﾂ', '.', '.', 'x'],\n",
       "       ['x', '.', '.', '.', '.', '.', '.', '.', '.', 'x'],\n",
       "       ['x', '.', '.', '.', '.', '.', '.', '.', '.', 'x'],\n",
       "       ['x', 'x', 'x', 'x', 'x', 'x', 'x', 'x', 'x', 'x']], dtype='<U1')"
      ]
     },
     "execution_count": 2,
     "metadata": {},
     "output_type": "execute_result"
    }
   ],
   "source": [
    "grid_1= np.array([\n",
    " ['0', '0', '0', '0', 'x', 'x', 'x', 'x', 'x', 'x'],\n",
    " ['x', '0', '0', '0', 'x', '.', '.', '.', '.', 'x'],\n",
    " ['x', '.', '0', '0', 'x', '.', '.', '.', '.', 'x'],\n",
    " ['x', '.', '.', 'x', 'x', '.', '.', '.', '.', 'x'],\n",
    " ['x', 'x', '.', '.', '.', '.', '.', '.', '.', 'x'],\n",
    " ['x', 'x', '.', '.', '.', '.', '.', '.', '.', 'x'],\n",
    " ['x', '.', '.', '.', '.', '.', 'ﾂ', '.', '.', 'x'],\n",
    " ['x', '.', '.', '.', '.', '.', '.', '.', '.', 'x'],\n",
    " ['x', '.', '.', '.', '.', '.', '.', '.', '.', 'x'],\n",
    " ['x', 'x', 'x', 'x', 'x', 'x', 'x', 'x', 'x', 'x']])\n",
    "\n",
    "grid_1"
   ]
  },
  {
   "cell_type": "code",
   "execution_count": 3,
   "metadata": {},
   "outputs": [
    {
     "data": {
      "text/plain": [
       "array([['x', '0', 'x', 'x', '0', '0', '.', 'x', 'x', 'x'],\n",
       "       ['x', '.', '.', 'x', '0', '.', '.', '.', '.', 'x'],\n",
       "       ['.', '.', '.', 'x', '0', '.', '.', '.', '.', 'x'],\n",
       "       ['0', '.', '.', 'x', '.', '.', '.', '.', '.', 'x'],\n",
       "       ['0', 'x', '.', '.', '.', '.', '.', '.', '.', 'x'],\n",
       "       ['x', 'x', '.', '.', '.', '.', '.', '.', '.', 'x'],\n",
       "       ['x', '.', 'ﾂ', '.', '.', '.', '.', '.', '.', 'x'],\n",
       "       ['x', '.', '.', '.', '.', '.', '.', '.', '.', 'x'],\n",
       "       ['x', '.', '.', '.', '.', '.', '.', '.', '.', 'x'],\n",
       "       ['x', 'x', 'x', 'x', 'x', 'x', 'x', 'x', 'x', 'x']], dtype='<U1')"
      ]
     },
     "execution_count": 3,
     "metadata": {},
     "output_type": "execute_result"
    }
   ],
   "source": [
    "grid_2 = np.array(\n",
    "[['x', '0', 'x', 'x', '0', '0', '.', 'x', 'x', 'x'],\n",
    " ['x', '.', '.', 'x', '0', '.', '.', '.', '.', 'x'],\n",
    " ['.', '.', '.', 'x', '0', '.', '.', '.', '.', 'x'],\n",
    " ['0', '.', '.', 'x', '.', '.', '.', '.', '.', 'x'],\n",
    " ['0', 'x', '.', '.', '.', '.', '.', '.', '.', 'x'],\n",
    " ['x', 'x', '.', '.', '.', '.', '.', '.', '.', 'x'],\n",
    " ['x', '.', 'ﾂ', '.', '.', '.', '.', '.', '.', 'x'],\n",
    " ['x', '.', '.', '.', '.', '.', '.', '.', '.', 'x'],\n",
    " ['x', '.', '.', '.', '.', '.', '.', '.', '.', 'x'],\n",
    " ['x', 'x', 'x', 'x', 'x', 'x', 'x', 'x', 'x', 'x']])\n",
    "\n",
    "grid_2"
   ]
  },
  {
   "cell_type": "code",
   "execution_count": 4,
   "metadata": {},
   "outputs": [
    {
     "data": {
      "text/plain": [
       "(6, 6)"
      ]
     },
     "execution_count": 4,
     "metadata": {},
     "output_type": "execute_result"
    }
   ],
   "source": [
    "position_grid_1 = np.argwhere(grid_1 == 'ﾂ')[0]\n",
    "start_x_1, start_y_1 = position_grid_1\n",
    "start_x_1,start_y_1"
   ]
  },
  {
   "cell_type": "code",
   "execution_count": 5,
   "metadata": {},
   "outputs": [
    {
     "data": {
      "text/plain": [
       "(6, 2)"
      ]
     },
     "execution_count": 5,
     "metadata": {},
     "output_type": "execute_result"
    }
   ],
   "source": [
    "position_grid_2 = np.argwhere(grid_2 == 'ﾂ')[0]\n",
    "start_x_2, start_y_2 = position_grid_2\n",
    "start_x_2,start_y_2"
   ]
  },
  {
   "cell_type": "code",
   "execution_count": 6,
   "metadata": {},
   "outputs": [
    {
     "data": {
      "text/plain": [
       "(0, -4)"
      ]
     },
     "execution_count": 6,
     "metadata": {},
     "output_type": "execute_result"
    }
   ],
   "source": [
    "delta_x = start_x_2 - start_x_1\n",
    "delta_y = start_y_2 - start_y_1\n",
    "delta_x, delta_y"
   ]
  },
  {
   "cell_type": "code",
   "execution_count": 7,
   "metadata": {},
   "outputs": [],
   "source": [
    "def get_index(grid, value):\n",
    "    unknow = np.argwhere(grid == value)\n",
    "    list_unknow= set([tuple(x) for x in  unknow])\n",
    "    return list_unknow\n",
    "\n",
    "    "
   ]
  },
  {
   "cell_type": "code",
   "execution_count": 8,
   "metadata": {},
   "outputs": [],
   "source": [
    "unknow_1 = get_index(grid_1, '0')\n",
    "unknow_2 = get_index(grid_2, '0')\n",
    "\n",
    "# unknow_2 = np.argwhere(grid_2 == '0')\n",
    "# list_unknow_2 = set([tuple(x) for x in  unknow_2])\n",
    "# list_unknow_2"
   ]
  },
  {
   "cell_type": "code",
   "execution_count": 9,
   "metadata": {},
   "outputs": [
    {
     "data": {
      "text/plain": [
       "{(0, 1)}"
      ]
     },
     "execution_count": 9,
     "metadata": {},
     "output_type": "execute_result"
    }
   ],
   "source": [
    "intersecation_unknow = unknow_2.intersection(unknow_1)\n",
    "intersecation_unknow"
   ]
  },
  {
   "cell_type": "code",
   "execution_count": 10,
   "metadata": {},
   "outputs": [
    {
     "data": {
      "text/plain": [
       "{(0, 7),\n",
       " (0, 8),\n",
       " (0, 9),\n",
       " (1, 0),\n",
       " (1, 9),\n",
       " (2, 9),\n",
       " (3, 3),\n",
       " (3, 9),\n",
       " (4, 1),\n",
       " (4, 9),\n",
       " (5, 0),\n",
       " (5, 1),\n",
       " (5, 9),\n",
       " (6, 0),\n",
       " (6, 9),\n",
       " (7, 0),\n",
       " (7, 9),\n",
       " (8, 0),\n",
       " (8, 9),\n",
       " (9, 0),\n",
       " (9, 1),\n",
       " (9, 2),\n",
       " (9, 3),\n",
       " (9, 4),\n",
       " (9, 5),\n",
       " (9, 6),\n",
       " (9, 7),\n",
       " (9, 8),\n",
       " (9, 9)}"
      ]
     },
     "execution_count": 10,
     "metadata": {},
     "output_type": "execute_result"
    }
   ],
   "source": [
    "# union of walls\n",
    "walls_1 = get_index(grid_1, 'x')\n",
    "walls_2 = get_index(grid_2, 'x')\n",
    "union_walls = walls_1.intersection(walls_2)\n",
    "union_walls"
   ]
  },
  {
   "cell_type": "code",
   "execution_count": 11,
   "metadata": {},
   "outputs": [
    {
     "data": {
      "text/plain": [
       "array([['.', '.', '.', '.', '.', '.', '.', 'x', 'x', 'x'],\n",
       "       ['x', '.', '.', '.', '.', '.', '.', '.', '.', 'x'],\n",
       "       ['.', '.', '.', '.', '.', '.', '.', '.', '.', 'x'],\n",
       "       ['.', '.', '.', 'x', '.', '.', '.', '.', '.', 'x'],\n",
       "       ['.', 'x', '.', '.', '.', '.', '.', '.', '.', 'x'],\n",
       "       ['x', 'x', '.', '.', '.', '.', '.', '.', '.', 'x'],\n",
       "       ['x', '.', '.', '.', '.', '.', '.', '.', '.', 'x'],\n",
       "       ['x', '.', '.', '.', '.', '.', '.', '.', '.', 'x'],\n",
       "       ['x', '.', '.', '.', '.', '.', '.', '.', '.', 'x'],\n",
       "       ['x', 'x', 'x', 'x', 'x', 'x', 'x', 'x', 'x', 'x']], dtype='<U1')"
      ]
     },
     "execution_count": 11,
     "metadata": {},
     "output_type": "execute_result"
    }
   ],
   "source": [
    "new_world = np.full((10,10), '.')\n",
    "\n",
    "for elem in union_walls:\n",
    "    x, y = elem\n",
    "    new_world[x,y] = 'x'\n",
    "\n",
    "new_world"
   ]
  },
  {
   "cell_type": "code",
   "execution_count": 12,
   "metadata": {},
   "outputs": [
    {
     "data": {
      "text/plain": [
       "array([['.', '0', '.', '.', '.', '.', '.', 'x', 'x', 'x'],\n",
       "       ['x', '.', '.', '.', '.', '.', '.', '.', '.', 'x'],\n",
       "       ['.', '.', '.', '.', '.', '.', '.', '.', '.', 'x'],\n",
       "       ['.', '.', '.', 'x', '.', '.', '.', '.', '.', 'x'],\n",
       "       ['.', 'x', '.', '.', '.', '.', '.', '.', '.', 'x'],\n",
       "       ['x', 'x', '.', '.', '.', '.', '.', '.', '.', 'x'],\n",
       "       ['x', '.', '.', '.', '.', '.', '.', '.', '.', 'x'],\n",
       "       ['x', '.', '.', '.', '.', '.', '.', '.', '.', 'x'],\n",
       "       ['x', '.', '.', '.', '.', '.', '.', '.', '.', 'x'],\n",
       "       ['x', 'x', 'x', 'x', 'x', 'x', 'x', 'x', 'x', 'x']], dtype='<U1')"
      ]
     },
     "execution_count": 12,
     "metadata": {},
     "output_type": "execute_result"
    }
   ],
   "source": [
    "for elem in intersecation_unknow:\n",
    "    x, y = elem\n",
    "    new_world[x,y] = '0'\n",
    "\n",
    "new_world"
   ]
  },
  {
   "cell_type": "code",
   "execution_count": 15,
   "metadata": {},
   "outputs": [
    {
     "data": {
      "text/plain": [
       "{(0, 0),\n",
       " (0, 2),\n",
       " (0, 3),\n",
       " (0, 4),\n",
       " (0, 5),\n",
       " (0, 6),\n",
       " (1, 3),\n",
       " (1, 4),\n",
       " (2, 0),\n",
       " (2, 3),\n",
       " (2, 4),\n",
       " (3, 0),\n",
       " (3, 4),\n",
       " (4, 0)}"
      ]
     },
     "execution_count": 15,
     "metadata": {},
     "output_type": "execute_result"
    }
   ],
   "source": [
    "dff_1 = walls_2.difference(walls_1)\n",
    "dff_2 = walls_1.difference(walls_2)\n",
    "union_dff = dff_1.union(dff_2)\n",
    "union_dff"
   ]
  },
  {
   "cell_type": "code",
   "execution_count": 16,
   "metadata": {},
   "outputs": [
    {
     "data": {
      "text/plain": [
       "array([['+', '0', '+', '+', '+', '+', '+', 'x', 'x', 'x'],\n",
       "       ['x', '.', '.', '+', '+', '.', '.', '.', '.', 'x'],\n",
       "       ['+', '.', '.', '+', '+', '.', '.', '.', '.', 'x'],\n",
       "       ['+', '.', '.', 'x', '+', '.', '.', '.', '.', 'x'],\n",
       "       ['+', 'x', '.', '.', '.', '.', '.', '.', '.', 'x'],\n",
       "       ['x', 'x', '.', '.', '.', '.', '.', '.', '.', 'x'],\n",
       "       ['x', '.', '.', '.', '.', '.', '.', '.', '.', 'x'],\n",
       "       ['x', '.', '.', '.', '.', '.', '.', '.', '.', 'x'],\n",
       "       ['x', '.', '.', '.', '.', '.', '.', '.', '.', 'x'],\n",
       "       ['x', 'x', 'x', 'x', 'x', 'x', 'x', 'x', 'x', 'x']], dtype='<U1')"
      ]
     },
     "execution_count": 16,
     "metadata": {},
     "output_type": "execute_result"
    }
   ],
   "source": [
    "for elem in union_dff:\n",
    "    x, y = elem\n",
    "    new_world[x,y] = '+'\n",
    "\n",
    "new_world"
   ]
  },
  {
   "cell_type": "code",
   "execution_count": null,
   "metadata": {},
   "outputs": [],
   "source": []
  }
 ],
 "metadata": {
  "kernelspec": {
   "display_name": "Python 3",
   "language": "python",
   "name": "python3"
  },
  "language_info": {
   "codemirror_mode": {
    "name": "ipython",
    "version": 3
   },
   "file_extension": ".py",
   "mimetype": "text/x-python",
   "name": "python",
   "nbconvert_exporter": "python",
   "pygments_lexer": "ipython3",
   "version": "3.10.6"
  },
  "orig_nbformat": 4
 },
 "nbformat": 4,
 "nbformat_minor": 2
}
